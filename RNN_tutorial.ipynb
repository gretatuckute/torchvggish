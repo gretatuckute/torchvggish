{
  "nbformat": 4,
  "nbformat_minor": 5,
  "metadata": {
    "kernelspec": {
      "display_name": "Python 3",
      "language": "python",
      "name": "python3"
    },
    "language_info": {
      "codemirror_mode": {
        "name": "ipython",
        "version": 3
      },
      "file_extension": ".py",
      "mimetype": "text/x-python",
      "name": "python",
      "nbconvert_exporter": "python",
      "pygments_lexer": "ipython3",
      "version": "3.8.5"
    },
    "colab": {
      "name": "RNN_tutorial.ipynb",
      "provenance": []
    }
  },
  "cells": [
    {
      "cell_type": "markdown",
      "metadata": {
        "id": "clear-camel"
      },
      "source": [
        "## Tutorial: Recurrent neural networks for cognitive neuroscience\n",
        "\n",
        "Creator: Guangyu Robert Yang\n",
        "\n",
        "Contributors: Jenelle J Feather, Mahdi Fouad Ramadan, Ling Liang Dong, Fernanda De la Torre\n",
        "\n",
        "\n",
        "Note: This tutorial can be used as a standalone tutorial for yourself. It is prepared for a 2h interactive session at MIT BCS.\n",
        "\n",
        "[![Open In Colab](https://colab.research.google.com/assets/colab-badge.svg)](https://colab.research.google.com/github/gyyang/nn-brain/blob/master/RNN_tutorial.ipynb)"
      ],
      "id": "clear-camel"
    },
    {
      "cell_type": "markdown",
      "metadata": {
        "id": "indian-night"
      },
      "source": [
        "![Screen%20Shot%202021-08-11%20at%206.44.38%20PM.png](attachment:Screen%20Shot%202021-08-11%20at%206.44.38%20PM.png)"
      ],
      "id": "indian-night"
    },
    {
      "cell_type": "markdown",
      "metadata": {
        "id": "flush-avenue"
      },
      "source": [
        "![Screen%20Shot%202021-08-11%20at%206.46.43%20PM.png](attachment:Screen%20Shot%202021-08-11%20at%206.46.43%20PM.png)"
      ],
      "id": "flush-avenue"
    },
    {
      "cell_type": "markdown",
      "metadata": {
        "id": "adjustable-republican"
      },
      "source": [
        "![Screen%20Shot%202021-08-11%20at%206.48.10%20PM.png](attachment:Screen%20Shot%202021-08-11%20at%206.48.10%20PM.png)"
      ],
      "id": "adjustable-republican"
    },
    {
      "cell_type": "markdown",
      "metadata": {
        "id": "healthy-tucson"
      },
      "source": [
        "For more details, you can check out [this talk](https://www.youtube.com/watch?v=Eq-chOIbOwM) or this [Primer](https://www.sciencedirect.com/science/article/abs/pii/S0896627320307054) (its [arxiv version](https://arxiv.org/abs/2006.01001)).\n",
        "\n",
        "A seminal paper in this area that is a must-read is [Mante\\*, Sussillo\\*, Shenoy, Newsome 2013](https://www.nature.com/articles/nature12742)."
      ],
      "id": "healthy-tucson"
    },
    {
      "cell_type": "markdown",
      "metadata": {
        "id": "urban-soccer"
      },
      "source": [
        "### Installing and importing relevant packages"
      ],
      "id": "urban-soccer"
    },
    {
      "cell_type": "code",
      "metadata": {
        "id": "successful-battlefield",
        "outputId": "6a0c4975-6738-4de6-82a2-f696652de04b",
        "colab": {
          "base_uri": "https://localhost:8080/"
        }
      },
      "source": [
        "# # If on Google Colab, uncomment to install neurogym to use cognitive tasks\n",
        "! git clone https://github.com/neurogym/neurogym.git\n",
        "%cd neurogym/\n",
        "! pip install -e ."
      ],
      "id": "successful-battlefield",
      "execution_count": 10,
      "outputs": [
        {
          "output_type": "stream",
          "text": [
            "Cloning into 'neurogym'...\n",
            "remote: Enumerating objects: 10737, done.\u001b[K\n",
            "remote: Total 10737 (delta 0), reused 0 (delta 0), pack-reused 10737\u001b[K\n",
            "Receiving objects: 100% (10737/10737), 8.11 MiB | 28.72 MiB/s, done.\n",
            "Resolving deltas: 100% (8124/8124), done.\n",
            "/content/neurogym\n",
            "Obtaining file:///content/neurogym\n",
            "Requirement already satisfied: numpy in /usr/local/lib/python3.7/dist-packages (from neurogym==0.0.1) (1.19.5)\n",
            "Requirement already satisfied: gym in /usr/local/lib/python3.7/dist-packages (from neurogym==0.0.1) (0.17.3)\n",
            "Requirement already satisfied: matplotlib in /usr/local/lib/python3.7/dist-packages (from neurogym==0.0.1) (3.2.2)\n",
            "Requirement already satisfied: pyglet<=1.5.0,>=1.4.0 in /usr/local/lib/python3.7/dist-packages (from gym->neurogym==0.0.1) (1.5.0)\n",
            "Requirement already satisfied: cloudpickle<1.7.0,>=1.2.0 in /usr/local/lib/python3.7/dist-packages (from gym->neurogym==0.0.1) (1.3.0)\n",
            "Requirement already satisfied: scipy in /usr/local/lib/python3.7/dist-packages (from gym->neurogym==0.0.1) (1.4.1)\n",
            "Requirement already satisfied: future in /usr/local/lib/python3.7/dist-packages (from pyglet<=1.5.0,>=1.4.0->gym->neurogym==0.0.1) (0.16.0)\n",
            "Requirement already satisfied: pyparsing!=2.0.4,!=2.1.2,!=2.1.6,>=2.0.1 in /usr/local/lib/python3.7/dist-packages (from matplotlib->neurogym==0.0.1) (2.4.7)\n",
            "Requirement already satisfied: kiwisolver>=1.0.1 in /usr/local/lib/python3.7/dist-packages (from matplotlib->neurogym==0.0.1) (1.3.1)\n",
            "Requirement already satisfied: cycler>=0.10 in /usr/local/lib/python3.7/dist-packages (from matplotlib->neurogym==0.0.1) (0.10.0)\n",
            "Requirement already satisfied: python-dateutil>=2.1 in /usr/local/lib/python3.7/dist-packages (from matplotlib->neurogym==0.0.1) (2.8.1)\n",
            "Requirement already satisfied: six in /usr/local/lib/python3.7/dist-packages (from cycler>=0.10->matplotlib->neurogym==0.0.1) (1.15.0)\n",
            "Installing collected packages: neurogym\n",
            "  Running setup.py develop for neurogym\n",
            "Successfully installed neurogym-0.0.1\n"
          ],
          "name": "stdout"
        }
      ]
    },
    {
      "cell_type": "code",
      "metadata": {
        "id": "compressed-calcium"
      },
      "source": [
        "# Import common packages\n",
        "import numpy as np\n",
        "import matplotlib.pyplot as plt\n",
        "import torch\n",
        "import torch.nn as nn"
      ],
      "id": "compressed-calcium",
      "execution_count": 2,
      "outputs": []
    },
    {
      "cell_type": "markdown",
      "metadata": {
        "id": "scenic-tuesday"
      },
      "source": [
        "### Defining a recurrent neural network"
      ],
      "id": "scenic-tuesday"
    },
    {
      "cell_type": "markdown",
      "metadata": {
        "id": "starting-excerpt"
      },
      "source": [
        "**LSTM**: A typical recurrent network in machine learning. Usage example adopted from pytorch documentation."
      ],
      "id": "starting-excerpt"
    },
    {
      "cell_type": "code",
      "metadata": {
        "id": "comparable-piece",
        "outputId": "d863127e-e475-4dca-caa2-154c183bc5b2",
        "colab": {
          "base_uri": "https://localhost:8080/"
        }
      },
      "source": [
        "import torch\n",
        "import torch.nn as nn  # nn stands for neural network\n",
        "\n",
        "\n",
        "# Make a LSTM, input_size is the dimension of inputs,\n",
        "# hidden_size is the number of hidden neurons\n",
        "rnn = nn.LSTM(input_size=10, hidden_size=20, num_layers=2)\n",
        "\n",
        "# Generate some mock inputs\n",
        "input = torch.randn(5, 3, 10)  # (Sequence Length, Batch Size, Input Size)\n",
        "output, (hn, cn) = rnn(input)\n",
        "\n",
        "print('Output shape is (SeqLen, BatchSize, HiddenSize):', output.shape)"
      ],
      "id": "comparable-piece",
      "execution_count": 4,
      "outputs": [
        {
          "output_type": "stream",
          "text": [
            "Output shape is (SeqLen, BatchSize, HiddenSize): torch.Size([5, 3, 20])\n"
          ],
          "name": "stdout"
        }
      ]
    },
    {
      "cell_type": "markdown",
      "metadata": {
        "id": "incorporated-editor"
      },
      "source": [
        "In general, recurrent neural networks transform **sequence to sequence**. Other network architectures, such as MultiHeadAttetion as used in Transformers, can also be thought of as sequence to sequence. \n",
        "\n",
        "In the context of cognitive neuroscience, the sequence is usually a time series of task input or output."
      ],
      "id": "incorporated-editor"
    },
    {
      "cell_type": "code",
      "metadata": {
        "id": "becoming-cement",
        "outputId": "5600bc11-d876-42f8-f630-0c89bd011e7c",
        "colab": {
          "base_uri": "https://localhost:8080/"
        }
      },
      "source": [
        "input = torch.randn(5, 3, 10)  # (Sequence Length, Batch Size, Input Size)\n",
        "\n",
        "lstm = nn.LSTM(input_size=10, hidden_size=20, num_layers=2)\n",
        "output, _ = lstm(input)\n",
        "print('Output shape is (SeqLen, BatchSize, Dimension):', output.shape)\n",
        "\n",
        "rnn = nn.RNN(input_size=10, hidden_size=20, num_layers=2)\n",
        "output, _ = rnn(input)\n",
        "print('Output shape is (SeqLen, BatchSize, Dimension):', output.shape)\n",
        "\n",
        "gru = nn.GRU(input_size=10, hidden_size=20, num_layers=2)\n",
        "output, _ = gru(input)\n",
        "print('Output shape is (SeqLen, BatchSize, Dimension):', output.shape)\n",
        "\n",
        "mha = nn.MultiheadAttention(embed_dim=10, num_heads=1)\n",
        "output, _ = mha(query=input, key=input, value=input)\n",
        "print('Output shape is (SeqLen, BatchSize, Dimension):', output.shape)"
      ],
      "id": "becoming-cement",
      "execution_count": 5,
      "outputs": [
        {
          "output_type": "stream",
          "text": [
            "Output shape is (SeqLen, BatchSize, Dimension): torch.Size([5, 3, 20])\n",
            "Output shape is (SeqLen, BatchSize, Dimension): torch.Size([5, 3, 20])\n",
            "Output shape is (SeqLen, BatchSize, Dimension): torch.Size([5, 3, 20])\n",
            "Output shape is (SeqLen, BatchSize, Dimension): torch.Size([5, 3, 10])\n"
          ],
          "name": "stdout"
        }
      ]
    },
    {
      "cell_type": "markdown",
      "metadata": {
        "id": "proper-armor"
      },
      "source": [
        "Some neuroscientists prefer **continuous-time recurrent neural networks**.\n",
        "\n",
        "Here we first define a continuous-time neural network,\n",
        "\\begin{align}\n",
        "    \\tau \\frac{d\\mathbf{r}}{dt} = -\\mathbf{r}(t) + f(W_r \\mathbf{r}(t) + W_x \\mathbf{x}(t) + \\mathbf{b}_r).\n",
        "\\end{align}\n",
        "\n",
        "Then we discretize this network in time using the Euler method with a time step of $\\Delta t$, \n",
        "\\begin{align}\n",
        "    \\mathbf{r}(t+\\Delta t) = \\mathbf{r}(t) + \\Delta \\mathbf{r} &= \\mathbf{r}(t) + \\frac{\\Delta t}{\\tau}[-\\mathbf{r}(t) + f(W_r \\mathbf{r}(t) + W_x \\mathbf{x}(t) + \\mathbf{b}_r)] \\\\\n",
        "    &= (1 - \\frac{\\Delta t}{\\tau})\\mathbf{r}(t) + \\frac{\\Delta t}{\\tau}f(W_r \\mathbf{r}(t) + W_x \\mathbf{x}(t) + \\mathbf{b}_r)\n",
        "\\end{align}"
      ],
      "id": "proper-armor"
    },
    {
      "cell_type": "code",
      "metadata": {
        "id": "coupled-sessions"
      },
      "source": [
        "# Define networks\n",
        "import torch\n",
        "import torch.nn as nn\n",
        "from torch.nn import init\n",
        "from torch.nn import functional as F\n",
        "import math\n",
        "    \n",
        "\n",
        "class CTRNN(nn.Module):\n",
        "    \"\"\"Continuous-time RNN.\n",
        "\n",
        "    Parameters:\n",
        "        input_size: Number of input neurons\n",
        "        hidden_size: Number of hidden neurons\n",
        "        dt: discretization time step in ms. \n",
        "            If None, dt equals time constant tau\n",
        "\n",
        "    Inputs:\n",
        "        input: tensor of shape (seq_len, batch, input_size)\n",
        "        hidden: tensor of shape (batch, hidden_size), initial hidden activity\n",
        "            if None, hidden is initialized through self.init_hidden()\n",
        "        \n",
        "    Outputs:\n",
        "        output: tensor of shape (seq_len, batch, hidden_size)\n",
        "        hidden: tensor of shape (batch, hidden_size), final hidden activity\n",
        "    \"\"\"\n",
        "\n",
        "    def __init__(self, input_size, hidden_size, dt=None, **kwargs):\n",
        "        super().__init__()\n",
        "        self.input_size = input_size\n",
        "        self.hidden_size = hidden_size\n",
        "        self.tau = 100\n",
        "        if dt is None:\n",
        "            alpha = 1\n",
        "        else:\n",
        "            alpha = dt / self.tau\n",
        "        self.alpha = alpha\n",
        "\n",
        "        self.input2h = nn.Linear(input_size, hidden_size)\n",
        "        self.h2h = nn.Linear(hidden_size, hidden_size)\n",
        "\n",
        "    def init_hidden(self, input_shape):\n",
        "        batch_size = input_shape[1]\n",
        "        return torch.zeros(batch_size, self.hidden_size)\n",
        "\n",
        "    def recurrence(self, input, hidden):\n",
        "        \"\"\"Run network for one time step.\n",
        "        \n",
        "        Inputs:\n",
        "            input: tensor of shape (batch, input_size)\n",
        "            hidden: tensor of shape (batch, hidden_size)\n",
        "        \n",
        "        Outputs:\n",
        "            h_new: tensor of shape (batch, hidden_size),\n",
        "                network activity at the next time step\n",
        "        \"\"\"\n",
        "        h_new = torch.relu(self.input2h(input) + self.h2h(hidden))\n",
        "        h_new = hidden * (1 - self.alpha) + h_new * self.alpha\n",
        "        return h_new\n",
        "\n",
        "    def forward(self, input, hidden=None):\n",
        "        \"\"\"Propogate input through the network.\"\"\"\n",
        "        \n",
        "        # If hidden activity is not provided, initialize it\n",
        "        if hidden is None:\n",
        "            hidden = self.init_hidden(input.shape).to(input.device)\n",
        "\n",
        "        # Loop through time\n",
        "        output = []\n",
        "        steps = range(input.size(0))\n",
        "        for i in steps:\n",
        "            hidden = self.recurrence(input[i], hidden)\n",
        "            output.append(hidden)\n",
        "\n",
        "        # Stack together output from all time steps\n",
        "        output = torch.stack(output, dim=0)  # (seq_len, batch, hidden_size)\n",
        "        return output, hidden\n",
        "\n",
        "\n",
        "class RNNNet(nn.Module):\n",
        "    \"\"\"Recurrent network model.\n",
        "\n",
        "    Parameters:\n",
        "        input_size: int, input size\n",
        "        hidden_size: int, hidden size\n",
        "        output_size: int, output size\n",
        "    \n",
        "    Inputs:\n",
        "        x: tensor of shape (Seq Len, Batch, Input size)\n",
        "\n",
        "    Outputs:\n",
        "        out: tensor of shape (Seq Len, Batch, Output size)\n",
        "        rnn_output: tensor of shape (Seq Len, Batch, Hidden size)\n",
        "    \"\"\"\n",
        "    def __init__(self, input_size, hidden_size, output_size, **kwargs):\n",
        "        super().__init__()\n",
        "\n",
        "        # Continuous time RNN\n",
        "        self.rnn = CTRNN(input_size, hidden_size, **kwargs)\n",
        "        \n",
        "        # Add an output layer\n",
        "        self.fc = nn.Linear(hidden_size, output_size)\n",
        "\n",
        "    def forward(self, x):\n",
        "        rnn_output, _ = self.rnn(x)\n",
        "        out = self.fc(rnn_output)\n",
        "        return out, rnn_output"
      ],
      "id": "coupled-sessions",
      "execution_count": 6,
      "outputs": []
    },
    {
      "cell_type": "markdown",
      "metadata": {
        "id": "referenced-potential"
      },
      "source": [
        "Similar to LSTM, CTRNN transform sequence to sequence"
      ],
      "id": "referenced-potential"
    },
    {
      "cell_type": "code",
      "metadata": {
        "id": "stylish-penguin",
        "outputId": "b080b934-5f69-4870-b7aa-e459c9eab203",
        "colab": {
          "base_uri": "https://localhost:8080/"
        }
      },
      "source": [
        "batch_size = 16\n",
        "seq_len = 20  # sequence length\n",
        "input_size = 5  # input dimension\n",
        "\n",
        "# Make some random inputs\n",
        "input_rnn = torch.rand(seq_len, batch_size, input_size)\n",
        "\n",
        "# Make network\n",
        "rnn = RNNNet(input_size=input_size, hidden_size=100, output_size=10)\n",
        "\n",
        "# Run the sequence through the network\n",
        "out, rnn_output = rnn(input_rnn)\n",
        "\n",
        "print('Input of shape (SeqLen, BatchSize, InputDim)=', input_rnn.shape)\n",
        "print('Output of shape (SeqLen, BatchSize, Neuron)=', out.shape)"
      ],
      "id": "stylish-penguin",
      "execution_count": 7,
      "outputs": [
        {
          "output_type": "stream",
          "text": [
            "Input of shape (SeqLen, BatchSize, InputDim)= torch.Size([20, 16, 5])\n",
            "Output of shape (SeqLen, BatchSize, Neuron)= torch.Size([20, 16, 10])\n"
          ],
          "name": "stdout"
        }
      ]
    },
    {
      "cell_type": "markdown",
      "metadata": {
        "id": "artificial-michael"
      },
      "source": [
        "### Defining a simple cognitive task"
      ],
      "id": "artificial-michael"
    },
    {
      "cell_type": "markdown",
      "metadata": {
        "id": "controlled-taste"
      },
      "source": [
        "Here we use the neurogym package to make a simple \"perceptual decision making\" task."
      ],
      "id": "controlled-taste"
    },
    {
      "cell_type": "code",
      "metadata": {
        "id": "spoken-application"
      },
      "source": [
        "import gym  # package for RL environments\n",
        "import neurogym as ngym\n",
        "\n",
        "# Canned environment from neurogym\n",
        "task_name = 'PerceptualDecisionMaking-v0'\n",
        "# Importantly, we set discretization time step for the task as well\n",
        "kwargs = {'dt': 20, 'timing': {'stimulus': 1000}}\n",
        "\n",
        "# Boilerplate gym\n",
        "env = gym.make(task_name, **kwargs)"
      ],
      "id": "spoken-application",
      "execution_count": 11,
      "outputs": []
    },
    {
      "cell_type": "markdown",
      "metadata": {
        "id": "available-spread"
      },
      "source": [
        "(**Skip to Visualize Environment if first time reading**) If you prefer, you can copy the [source code](https://github.com/neurogym/neurogym/blob/master/neurogym/envs/perceptualdecisionmaking.py) of this task from neurogym, and customize it. You can create an environment directly from the source code."
      ],
      "id": "available-spread"
    },
    {
      "cell_type": "code",
      "metadata": {
        "id": "conventional-bermuda"
      },
      "source": [
        "from neurogym import spaces\n",
        "\n",
        "class PerceptualDecisionMaking(ngym.TrialEnv):\n",
        "    \"\"\"Two-alternative forced choice task in which the subject has to\n",
        "    integrate two stimuli to decide which one is higher on average.\n",
        "    A noisy stimulus is shown during the stimulus period. The strength (\n",
        "    coherence) of the stimulus is randomly sampled every trial. Because the\n",
        "    stimulus is noisy, the agent is encouraged to integrate the stimulus\n",
        "    over time.\n",
        "    Args:\n",
        "        cohs: list of float, coherence levels controlling the difficulty of\n",
        "            the task\n",
        "        sigma: float, input noise level\n",
        "        dim_ring: int, dimension of ring input and output\n",
        "    \"\"\"\n",
        "    metadata = {\n",
        "        'paper_link': 'https://www.jneurosci.org/content/12/12/4745',\n",
        "        'paper_name': '''The analysis of visual motion: a comparison of\n",
        "        neuronal and psychophysical performance''',\n",
        "        'tags': ['perceptual', 'two-alternative', 'supervised']\n",
        "    }\n",
        "\n",
        "    def __init__(self, dt=100, rewards=None, timing=None, cohs=None,\n",
        "                 sigma=1.0, dim_ring=2):\n",
        "        super().__init__(dt=dt)\n",
        "        if cohs is None:\n",
        "            self.cohs = np.array([0, 6.4, 12.8, 25.6, 51.2])\n",
        "        else:\n",
        "            self.cohs = cohs\n",
        "        self.sigma = sigma / np.sqrt(self.dt)  # Input noise\n",
        "\n",
        "        # Rewards\n",
        "        self.rewards = {'abort': -0.1, 'correct': +1., 'fail': 0.}\n",
        "        if rewards:\n",
        "            self.rewards.update(rewards)\n",
        "\n",
        "        self.timing = {\n",
        "            'fixation': 100,\n",
        "            'stimulus': 2000,\n",
        "            'delay': 0,\n",
        "            'decision': 100}\n",
        "        if timing:\n",
        "            self.timing.update(timing)\n",
        "\n",
        "        self.abort = False\n",
        "\n",
        "        self.theta = np.linspace(0, 2*np.pi, dim_ring+1)[:-1]\n",
        "        self.choices = np.arange(dim_ring)\n",
        "\n",
        "        name = {'fixation': 0, 'stimulus': range(1, dim_ring+1)}\n",
        "        self.observation_space = spaces.Box(\n",
        "            -np.inf, np.inf, shape=(1+dim_ring,), dtype=np.float32, name=name)\n",
        "        name = {'fixation': 0, 'choice': range(1, dim_ring+1)}\n",
        "        self.action_space = spaces.Discrete(1+dim_ring, name=name)\n",
        "\n",
        "    def _new_trial(self, **kwargs):\n",
        "        \"\"\"\n",
        "        new_trial() is called when a trial ends to generate the next trial.\n",
        "        The following variables are created:\n",
        "            durations, which stores the duration of the different periods (in\n",
        "            the case of perceptualDecisionMaking: fixation, stimulus and\n",
        "            decision periods)\n",
        "            ground truth: correct response for the trial\n",
        "            coh: stimulus coherence (evidence) for the trial\n",
        "            obs: observation\n",
        "        \"\"\"\n",
        "        # Trial info\n",
        "        trial = {\n",
        "            'ground_truth': self.rng.choice(self.choices),\n",
        "            'coh': self.rng.choice(self.cohs),\n",
        "        }\n",
        "        trial.update(kwargs)\n",
        "\n",
        "        coh = trial['coh']\n",
        "        ground_truth = trial['ground_truth']\n",
        "        stim_theta = self.theta[ground_truth]\n",
        "\n",
        "        # Periods\n",
        "        self.add_period(['fixation', 'stimulus', 'delay', 'decision'])\n",
        "\n",
        "        # Observations\n",
        "        self.add_ob(1, period=['fixation', 'stimulus', 'delay'], where='fixation')\n",
        "        stim = np.cos(self.theta - stim_theta) * (coh/200) + 0.5\n",
        "        self.add_ob(stim, 'stimulus', where='stimulus')\n",
        "        self.add_randn(0, self.sigma, 'stimulus', where='stimulus')\n",
        "\n",
        "        # Ground truth\n",
        "        self.set_groundtruth(ground_truth, period='decision', where='choice')\n",
        "\n",
        "        return trial\n",
        "\n",
        "    def _step(self, action):\n",
        "        \"\"\"\n",
        "        _step receives an action and returns:\n",
        "            a new observation, obs\n",
        "            reward associated with the action, reward\n",
        "            a boolean variable indicating whether the experiment has end, done\n",
        "            a dictionary with extra information:\n",
        "                ground truth correct response, info['gt']\n",
        "                boolean indicating the end of the trial, info['new_trial']\n",
        "        \"\"\"\n",
        "        new_trial = False\n",
        "        # rewards\n",
        "        reward = 0\n",
        "        gt = self.gt_now\n",
        "        # observations\n",
        "        if self.in_period('fixation'):\n",
        "            if action != 0:  # action = 0 means fixating\n",
        "                new_trial = self.abort\n",
        "                reward += self.rewards['abort']\n",
        "        elif self.in_period('decision'):\n",
        "            if action != 0:\n",
        "                new_trial = True\n",
        "                if action == gt:\n",
        "                    reward += self.rewards['correct']\n",
        "                    self.performance = 1\n",
        "                else:\n",
        "                    reward += self.rewards['fail']\n",
        "\n",
        "        return self.ob_now, reward, False, {'new_trial': new_trial, 'gt': gt}\n",
        "\n",
        "# Create environment from source code\n",
        "env2 = PerceptualDecisionMaking(**kwargs)"
      ],
      "id": "conventional-bermuda",
      "execution_count": 12,
      "outputs": []
    },
    {
      "cell_type": "markdown",
      "metadata": {
        "id": "composed-location"
      },
      "source": [
        "**Visualize the environment.**\n",
        "\n",
        "The following function helps us visualize the environment. It shows from top \n",
        "1. observation that the network/agent receives, \n",
        "2. actions taken by a random agent and the ground-truth (when applicable), \n",
        "3. reward received by the agent (relevant for reinforcement learning), \n",
        "4. performance of the network (we'll re-compute this explicitly ourselves)."
      ],
      "id": "composed-location"
    },
    {
      "cell_type": "code",
      "metadata": {
        "id": "assigned-munich",
        "outputId": "fbea525a-e151-4ba0-99d3-6966a0db194a",
        "colab": {
          "base_uri": "https://localhost:8080/",
          "height": 434
        }
      },
      "source": [
        "# Visualize the environment with 2 sample trials\n",
        "_ = ngym.utils.plot_env(env, num_trials=2)\n",
        "\n",
        "# This is a simple task, the input and output are low-dimensional\n",
        "input_size = env.observation_space.shape[0]\n",
        "output_size = env.action_space.n\n",
        "print('Input size', input_size)\n",
        "print('Output size', output_size)"
      ],
      "id": "assigned-munich",
      "execution_count": 13,
      "outputs": [
        {
          "output_type": "stream",
          "text": [
            "findfont: Font family ['arial'] not found. Falling back to DejaVu Sans.\n",
            "findfont: Font family ['arial'] not found. Falling back to DejaVu Sans.\n"
          ],
          "name": "stderr"
        },
        {
          "output_type": "stream",
          "text": [
            "Input size 3\n",
            "Output size 3\n"
          ],
          "name": "stdout"
        },
        {
          "output_type": "display_data",
          "data": {
            "image/png": "[encoded data removed]",
            "text/plain": [
              "<Figure size 360x345.6 with 4 Axes>"
            ]
          },
          "metadata": {
            "tags": [],
            "needs_background": "light"
          }
        }
      ]
    },
    {
      "cell_type": "markdown",
      "metadata": {
        "id": "large-modem"
      },
      "source": [
        "For **supervised learning**, we need a dataset that returns (input, target output pairs)."
      ],
      "id": "large-modem"
    },
    {
      "cell_type": "code",
      "metadata": {
        "id": "martial-tamil",
        "outputId": "76471e6b-785b-4f01-b411-ef5867f23a36",
        "colab": {
          "base_uri": "https://localhost:8080/"
        }
      },
      "source": [
        "# Make supervised dataset, neurogym boilerplate\n",
        "seq_len = 100\n",
        "batch_size = 16\n",
        "dataset = ngym.Dataset(env, batch_size=batch_size, seq_len=seq_len)\n",
        "\n",
        "# Generate one batch of data when called\n",
        "inputs, target = dataset()\n",
        "print('Input has shape (SeqLen, Batch, Dim) =', inputs.shape)\n",
        "print('Target has shape (SeqLen, Batch) =', target.shape)\n",
        "print('Target are the integers, for example target in the first sequence:')\n",
        "print(target[:, 0])"
      ],
      "id": "martial-tamil",
      "execution_count": 14,
      "outputs": [
        {
          "output_type": "stream",
          "text": [
            "Input has shape (SeqLen, Batch, Dim) = (100, 16, 3)\n",
            "Target has shape (SeqLen, Batch) = (100, 16)\n",
            "Target are the integers, for example target in the first sequence:\n",
            "[0 0 0 0 0 0 0 0 0 0 0 0 0 0 0 0 0 0 0 0 0 0 0 0 0 0 0 0 0 0 0 0 0 0 0 0 0\n",
            " 0 0 0 0 0 0 0 0 0 0 0 0 0 0 0 0 0 0 1 1 1 1 1 0 0 0 0 0 0 0 0 0 0 0 0 0 0\n",
            " 0 0 0 0 0 0 0 0 0 0 0 0 0 0 0 0 0 0 0 0 0 0 0 0 0 0]\n"
          ],
          "name": "stdout"
        }
      ]
    },
    {
      "cell_type": "markdown",
      "metadata": {
        "id": "separate-message"
      },
      "source": [
        "### Training the network to perform the task"
      ],
      "id": "separate-message"
    },
    {
      "cell_type": "code",
      "metadata": {
        "id": "romantic-recognition",
        "outputId": "8370a1ad-ef26-4aa9-95fc-2da6c19bc82a",
        "colab": {
          "base_uri": "https://localhost:8080/"
        }
      },
      "source": [
        "import torch.optim as optim\n",
        "import time\n",
        "\n",
        "# Instantiate the network and print information\n",
        "hidden_size = 128\n",
        "net = RNNNet(input_size=input_size, hidden_size=hidden_size,\n",
        "             output_size=output_size, dt=env.dt)\n",
        "print(net)\n",
        "\n",
        "def train_model(net, dataset):\n",
        "    \"\"\"Simple helper function to train the model.\n",
        "    \n",
        "    Args:\n",
        "        net: a pytorch nn.Module module\n",
        "        dataset: a dataset object that when called produce a (input, target output) pair\n",
        "    \n",
        "    Returns:\n",
        "        net: network object after training\n",
        "    \"\"\"\n",
        "    # Use Adam optimizer\n",
        "    optimizer = optim.Adam(net.parameters(), lr=0.01)\n",
        "    criterion = nn.CrossEntropyLoss()\n",
        "\n",
        "    running_loss = 0\n",
        "    running_acc = 0\n",
        "    start_time = time.time()\n",
        "    # Loop over training batches\n",
        "    print('Training network...')\n",
        "    for i in range(1000):\n",
        "        # Generate input and target, convert to pytorch tensor\n",
        "        inputs, labels = dataset()\n",
        "        inputs = torch.from_numpy(inputs).type(torch.float)\n",
        "        labels = torch.from_numpy(labels.flatten()).type(torch.long)\n",
        "\n",
        "        # boiler plate pytorch training:\n",
        "        optimizer.zero_grad()   # zero the gradient buffers\n",
        "        output, _ = net(inputs)\n",
        "        # Reshape to (SeqLen x Batch, OutputSize)\n",
        "        output = output.view(-1, output_size)\n",
        "        loss = criterion(output, labels)\n",
        "        loss.backward()\n",
        "        optimizer.step()    # Does the update\n",
        "\n",
        "        # Compute the running loss every 100 steps\n",
        "        running_loss += loss.item()\n",
        "        if i % 100 == 99:\n",
        "            running_loss /= 100\n",
        "            print('Step {}, Loss {:0.4f}, Time {:0.1f}s'.format(\n",
        "                i+1, running_loss, time.time() - start_time))\n",
        "            running_loss = 0\n",
        "    return net\n",
        "\n",
        "net = train_model(net, dataset)"
      ],
      "id": "romantic-recognition",
      "execution_count": 15,
      "outputs": [
        {
          "output_type": "stream",
          "text": [
            "RNNNet(\n",
            "  (rnn): CTRNN(\n",
            "    (input2h): Linear(in_features=3, out_features=128, bias=True)\n",
            "    (h2h): Linear(in_features=128, out_features=128, bias=True)\n",
            "  )\n",
            "  (fc): Linear(in_features=128, out_features=3, bias=True)\n",
            ")\n",
            "Training network...\n",
            "Step 100, Loss 0.1625, Time 2.9s\n",
            "Step 200, Loss 0.1872, Time 5.6s\n",
            "Step 300, Loss 0.0858, Time 8.3s\n",
            "Step 400, Loss 0.0677, Time 10.9s\n",
            "Step 500, Loss 0.0525, Time 13.6s\n",
            "Step 600, Loss 0.0408, Time 16.3s\n",
            "Step 700, Loss 0.0356, Time 19.0s\n",
            "Step 800, Loss 0.0565, Time 21.7s\n",
            "Step 900, Loss 0.0383, Time 24.4s\n",
            "Step 1000, Loss 0.0376, Time 27.1s\n"
          ],
          "name": "stdout"
        }
      ]
    },
    {
      "cell_type": "markdown",
      "metadata": {
        "id": "affected-divide"
      },
      "source": [
        "### Run the network after training, record activity, compute performance\n",
        "\n",
        "Here we run the network after training. We could have used similar functions as we did in the `train_model` function. But instead we will explicitly loop through individual trials, so we can log the information and compute the performance of each trial."
      ],
      "id": "affected-divide"
    },
    {
      "cell_type": "code",
      "metadata": {
        "id": "yellow-jason",
        "outputId": "758047fb-0c6a-4142-bdb9-7ecde853ff94",
        "colab": {
          "base_uri": "https://localhost:8080/"
        }
      },
      "source": [
        "import numpy as np\n",
        "# Reset environment\n",
        "env = dataset.env\n",
        "env.reset(no_step=True)\n",
        "\n",
        "# Initialize variables for logging\n",
        "perf = 0\n",
        "activity_dict = {}  # recording activity\n",
        "trial_infos = {}  # recording trial information\n",
        "\n",
        "num_trial = 200\n",
        "for i in range(num_trial):\n",
        "    # Neurogym boiler plate\n",
        "    # Sample a new trial\n",
        "    trial_info = env.new_trial()\n",
        "    # Observation and groud-truth of this trial\n",
        "    ob, gt = env.ob, env.gt\n",
        "    # Convert to numpy, add batch dimension to input\n",
        "    inputs = torch.from_numpy(ob[:, np.newaxis, :]).type(torch.float)\n",
        "    \n",
        "    # Run the network for one trial\n",
        "    # inputs (SeqLen, Batch, InputSize)\n",
        "    # action_pred (SeqLen, Batch, OutputSize)\n",
        "    action_pred, rnn_activity = net(inputs)\n",
        "    \n",
        "    # Compute performance\n",
        "    # First convert back to numpy\n",
        "    action_pred = action_pred.detach().numpy()[:, 0, :]\n",
        "    # Read out final choice at last time step\n",
        "    choice = np.argmax(action_pred[-1, :])\n",
        "    # Compare to ground truth\n",
        "    correct = choice == gt[-1]\n",
        "    \n",
        "    # Record activity, trial information, choice, correctness\n",
        "    rnn_activity = rnn_activity[:, 0, :].detach().numpy()\n",
        "    activity_dict[i] = rnn_activity\n",
        "    trial_infos[i] = trial_info  # trial_info is a dictionary\n",
        "    trial_infos[i].update({'correct': correct})\n",
        "\n",
        "# Print informations for sample trials\n",
        "for i in range(5):\n",
        "    print('Trial ', i, trial_infos[i])\n",
        "    \n",
        "print('Average performance', np.mean([val['correct'] for val in trial_infos.values()]))"
      ],
      "id": "yellow-jason",
      "execution_count": 16,
      "outputs": [
        {
          "output_type": "stream",
          "text": [
            "Trial  0 {'ground_truth': 1, 'coh': 12.8, 'correct': True}\n",
            "Trial  1 {'ground_truth': 0, 'coh': 0.0, 'correct': True}\n",
            "Trial  2 {'ground_truth': 1, 'coh': 12.8, 'correct': True}\n",
            "Trial  3 {'ground_truth': 0, 'coh': 6.4, 'correct': True}\n",
            "Trial  4 {'ground_truth': 1, 'coh': 12.8, 'correct': True}\n",
            "Average performance 0.855\n"
          ],
          "name": "stdout"
        }
      ]
    },
    {
      "cell_type": "markdown",
      "metadata": {
        "id": "suffering-persian"
      },
      "source": [
        "### Plot the network's activity in PCA\n",
        "\n",
        "Next we will analyze the network by plotting its activity in PCA space. Each trajectory in the PC-space would correspond to a single trial."
      ],
      "id": "suffering-persian"
    },
    {
      "cell_type": "code",
      "metadata": {
        "id": "distinct-diploma",
        "outputId": "8cf67198-5f1c-47f9-e45d-c9f89cdcfdc1",
        "colab": {
          "base_uri": "https://localhost:8080/"
        }
      },
      "source": [
        "# Apply PCA, boilerplate sklearn\n",
        "from sklearn.decomposition import PCA\n",
        "\n",
        "# Concatenate activity for PCA\n",
        "activity = np.concatenate(list(activity_dict[i] for i in range(num_trial)), axis=0)\n",
        "print('Shape of the neural activity: (Time points, Neurons): ', activity.shape)\n",
        "\n",
        "pca = PCA(n_components=2)\n",
        "pca.fit(activity)  # activity (Time points, Neurons)\n",
        "activity_pc = pca.transform(activity)  # transform to low-dimension\n",
        "print('Shape of the projected activity: (Time points, PCs): ', activity_pc.shape)"
      ],
      "id": "distinct-diploma",
      "execution_count": 17,
      "outputs": [
        {
          "output_type": "stream",
          "text": [
            "Shape of the neural activity: (Time points, Neurons):  (12000, 128)\n",
            "Shape of the projected activity: (Time points, PCs):  (12000, 2)\n"
          ],
          "name": "stdout"
        }
      ]
    },
    {
      "cell_type": "code",
      "metadata": {
        "id": "sapphire-alabama",
        "outputId": "9d5736d8-c70b-4a51-85ad-ccec2ad34398",
        "colab": {
          "base_uri": "https://localhost:8080/",
          "height": 248
        }
      },
      "source": [
        "# Project each trial and visualize activity\n",
        "\n",
        "import matplotlib.pyplot as plt\n",
        "\n",
        "# Plot all trials in ax1, plot fewer trials in ax2\n",
        "fig, (ax1, ax2) = plt.subplots(1, 2, sharey=True, sharex=True, figsize=(6, 3))\n",
        "\n",
        "for i in range(100):\n",
        "    # Transform and plot each trial\n",
        "    activity_pc = pca.transform(activity_dict[i])  # (Time points, PCs)\n",
        "\n",
        "    trial = trial_infos[i]\n",
        "    color = 'red' if trial['ground_truth'] == 0 else 'blue'\n",
        "    \n",
        "    _ = ax1.plot(activity_pc[:, 0], activity_pc[:, 1], 'o-', color=color)\n",
        "    if i < 3:\n",
        "        _ = ax2.plot(activity_pc[:, \n",
        "                                 0], activity_pc[:, 1], 'o-', color=color)\n",
        "        \n",
        "    # Plot the beginning of a trial with a special symbol\n",
        "    _ = ax1.plot(activity_pc[0, 0], activity_pc[0, 1], '^', color='black')\n",
        "\n",
        "ax1.set_title('{:d} Trials'.format(100))\n",
        "ax2.set_title('{:d} Trials'.format(3))\n",
        "ax1.set_xlabel('PC 1')\n",
        "ax1.set_ylabel('PC 2')"
      ],
      "id": "sapphire-alabama",
      "execution_count": 18,
      "outputs": [
        {
          "output_type": "execute_result",
          "data": {
            "text/plain": [
              "Text(0, 0.5, 'PC 2')"
            ]
          },
          "metadata": {
            "tags": []
          },
          "execution_count": 18
        },
        {
          "output_type": "display_data",
          "data": {
            "image/png": "[encoded data removed]",
            "text/plain": [
              "<Figure size 432x216 with 2 Axes>"
            ]
          },
          "metadata": {
            "tags": [],
            "needs_background": "light"
          }
        }
      ]
    },
    {
      "cell_type": "markdown",
      "metadata": {
        "id": "forward-graph"
      },
      "source": [
        "### Exercises\n",
        "\n",
        "In the following section, we have 9 exercises, separated into 3 categories: Easy, Medium, Hard. \n",
        "\n",
        "Ideally, each exercise should take no more than 1 hour. If you are spending a long time on one exercise, consider choosing one that is easier."
      ],
      "id": "forward-graph"
    },
    {
      "cell_type": "markdown",
      "metadata": {
        "id": "continuing-planning"
      },
      "source": [
        "### Exercise 1: Time constant of RNNs\n",
        "\n",
        "**Easy** | Medium | Hard\n",
        "\n",
        "Change the time constant of network units from 100ms to 40ms, and re-train the network. How does the final performance change?\n",
        "\n",
        "What about changing the discretization time step from 20ms to 10ms, while keeping the time constant at 100ms?"
      ],
      "id": "continuing-planning"
    },
    {
      "cell_type": "code",
      "metadata": {
        "id": "y0ld1lO5foUB",
        "outputId": "6d4a87f3-ccb6-449c-d7d4-a5e721887749",
        "colab": {
          "base_uri": "https://localhost:8080/"
        }
      },
      "source": [
        "import torch.optim as optim\n",
        "import time\n",
        "\n",
        "# Instantiate the network and print information\n",
        "hidden_size = 128\n",
        "net = RNNNet(input_size=input_size, hidden_size=hidden_size,\n",
        "             output_size=output_size, dt=40)\n",
        "print(net)\n",
        "\n",
        "def train_model(net, dataset):\n",
        "    \"\"\"Simple helper function to train the model.\n",
        "    \n",
        "    Args:\n",
        "        net: a pytorch nn.Module module\n",
        "        dataset: a dataset object that when called produce a (input, target output) pair\n",
        "    \n",
        "    Returns:\n",
        "        net: network object after training\n",
        "    \"\"\"\n",
        "    # Use Adam optimizer\n",
        "    optimizer = optim.Adam(net.parameters(), lr=0.01)\n",
        "    criterion = nn.CrossEntropyLoss()\n",
        "\n",
        "    running_loss = 0\n",
        "    running_acc = 0\n",
        "    start_time = time.time()\n",
        "    # Loop over training batches\n",
        "    print('Training network...')\n",
        "    for i in range(1000):\n",
        "        # Generate input and target, convert to pytorch tensor\n",
        "        inputs, labels = dataset()\n",
        "        inputs = torch.from_numpy(inputs).type(torch.float)\n",
        "        labels = torch.from_numpy(labels.flatten()).type(torch.long)\n",
        "\n",
        "        # boiler plate pytorch training:\n",
        "        optimizer.zero_grad()   # zero the gradient buffers\n",
        "        output, _ = net(inputs)\n",
        "        # Reshape to (SeqLen x Batch, OutputSize)\n",
        "        output = output.view(-1, output_size)\n",
        "        loss = criterion(output, labels)\n",
        "        loss.backward()\n",
        "        optimizer.step()    # Does the update\n",
        "\n",
        "        # Compute the running loss every 100 steps\n",
        "        running_loss += loss.item()\n",
        "        if i % 100 == 99:\n",
        "            running_loss /= 100\n",
        "            print('Step {}, Loss {:0.4f}, Time {:0.1f}s'.format(\n",
        "                i+1, running_loss, time.time() - start_time))\n",
        "            running_loss = 0\n",
        "    return net\n",
        "\n",
        "net = train_model(net, dataset)"
      ],
      "id": "y0ld1lO5foUB",
      "execution_count": 22,
      "outputs": [
        {
          "output_type": "stream",
          "text": [
            "RNNNet(\n",
            "  (rnn): CTRNN(\n",
            "    (input2h): Linear(in_features=3, out_features=128, bias=True)\n",
            "    (h2h): Linear(in_features=128, out_features=128, bias=True)\n",
            "  )\n",
            "  (fc): Linear(in_features=128, out_features=3, bias=True)\n",
            ")\n",
            "Training network...\n",
            "Step 100, Loss 0.1178, Time 2.7s\n",
            "Step 200, Loss 0.0763, Time 5.4s\n",
            "Step 300, Loss 0.0569, Time 8.1s\n",
            "Step 400, Loss 0.0478, Time 10.9s\n",
            "Step 500, Loss 0.0408, Time 13.5s\n",
            "Step 600, Loss 0.0342, Time 16.3s\n",
            "Step 700, Loss 0.0351, Time 19.0s\n",
            "Step 800, Loss 0.0306, Time 21.7s\n",
            "Step 900, Loss 0.0277, Time 24.5s\n",
            "Step 1000, Loss 0.0262, Time 27.2s\n"
          ],
          "name": "stdout"
        }
      ]
    },
    {
      "cell_type": "code",
      "metadata": {
        "id": "brilliant-canvas",
        "outputId": "490ebfc5-388f-42fb-c652-08053a8c8ec6",
        "colab": {
          "base_uri": "https://localhost:8080/"
        }
      },
      "source": [
        "import numpy as np\n",
        "# Reset environment\n",
        "env = dataset.env\n",
        "env.reset(no_step=True)\n",
        "\n",
        "# Initialize variables for logging\n",
        "perf = 0\n",
        "activity_dict = {}  # recording activity\n",
        "trial_infos = {}  # recording trial information\n",
        "\n",
        "num_trial = 200\n",
        "for i in range(num_trial):\n",
        "    # Neurogym boiler plate\n",
        "    # Sample a new trial\n",
        "    trial_info = env.new_trial()\n",
        "    # Observation and groud-truth of this trial\n",
        "    ob, gt = env.ob, env.gt\n",
        "    # Convert to numpy, add batch dimension to input\n",
        "    inputs = torch.from_numpy(ob[:, np.newaxis, :]).type(torch.float)\n",
        "    \n",
        "    # Run the network for one trial\n",
        "    # inputs (SeqLen, Batch, InputSize)\n",
        "    # action_pred (SeqLen, Batch, OutputSize)\n",
        "    action_pred, rnn_activity = net(inputs)\n",
        "    \n",
        "    # Compute performance\n",
        "    # First convert back to numpy\n",
        "    action_pred = action_pred.detach().numpy()[:, 0, :]\n",
        "    # Read out final choice at last time step\n",
        "    choice = np.argmax(action_pred[-1, :])\n",
        "    # Compare to ground truth\n",
        "    correct = choice == gt[-1]\n",
        "    \n",
        "    # Record activity, trial information, choice, correctness\n",
        "    rnn_activity = rnn_activity[:, 0, :].detach().numpy()\n",
        "    activity_dict[i] = rnn_activity\n",
        "    trial_infos[i] = trial_info  # trial_info is a dictionary\n",
        "    trial_infos[i].update({'correct': correct})\n",
        "\n",
        "# Print informations for sample trials\n",
        "for i in range(5):\n",
        "    print('Trial ', i, trial_infos[i])\n",
        "    \n",
        "print('Average performance', np.mean([val['correct'] for val in trial_infos.values()]))"
      ],
      "id": "brilliant-canvas",
      "execution_count": 23,
      "outputs": [
        {
          "output_type": "stream",
          "text": [
            "Trial  0 {'ground_truth': 0, 'coh': 0.0, 'correct': True}\n",
            "Trial  1 {'ground_truth': 1, 'coh': 51.2, 'correct': True}\n",
            "Trial  2 {'ground_truth': 0, 'coh': 6.4, 'correct': True}\n",
            "Trial  3 {'ground_truth': 0, 'coh': 12.8, 'correct': True}\n",
            "Trial  4 {'ground_truth': 1, 'coh': 0.0, 'correct': False}\n",
            "Average performance 0.9\n"
          ],
          "name": "stdout"
        }
      ]
    },
    {
      "cell_type": "markdown",
      "metadata": {
        "id": "transsexual-underground"
      },
      "source": [
        "### Exercise 2: Plot the performance of RNN during training\n",
        "\n",
        "**Easy** | Medium | Hard\n",
        "\n",
        "Plot the performance of the task during the training process. Generate a plot with x-axis training steps, and y-axis performance.\n",
        "\n",
        "Hint: You can re-use the performance computing code from above."
      ],
      "id": "transsexual-underground"
    },
    {
      "cell_type": "code",
      "metadata": {
        "id": "ordinary-plastic"
      },
      "source": [
        ""
      ],
      "id": "ordinary-plastic",
      "execution_count": null,
      "outputs": []
    },
    {
      "cell_type": "markdown",
      "metadata": {
        "id": "norman-chorus"
      },
      "source": [
        "### Exercise 3: Change the initialization of the RNN\n",
        "\n",
        "**Easy** | Medium | Hard\n",
        "\n",
        "Right now the RNN is initialized with the default pytorch initialization. Set instead the initial recurrent weight to an identity matrix. How does that influence the final performance?\n",
        "\n",
        "Hint: You can plot the current initialization of the recurrent weight using the following code block."
      ],
      "id": "norman-chorus"
    },
    {
      "cell_type": "code",
      "metadata": {
        "id": "boxed-crown",
        "outputId": "82b70448-cb4a-4299-d1fe-656a0206a31e",
        "colab": {
          "base_uri": "https://localhost:8080/",
          "height": 311
        }
      },
      "source": [
        "# Make network\n",
        "rnn = CTRNN(input_size=3, hidden_size=100)\n",
        "print('Shape of RNN recurrent weight is ', rnn.h2h.weight.shape)\n",
        "\n",
        "# Convert pytorch tensor to numpy array, pytorch boilerplate\n",
        "weight = rnn.h2h.weight.detach().numpy()\n",
        "\n",
        "plt.imshow(weight)\n",
        "plt.title('RNN weight at initialization')"
      ],
      "id": "boxed-crown",
      "execution_count": 24,
      "outputs": [
        {
          "output_type": "stream",
          "text": [
            "Shape of RNN recurrent weight is  torch.Size([100, 100])\n"
          ],
          "name": "stdout"
        },
        {
          "output_type": "execute_result",
          "data": {
            "text/plain": [
              "Text(0.5, 1.0, 'RNN weight at initialization')"
            ]
          },
          "metadata": {
            "tags": []
          },
          "execution_count": 24
        },
        {
          "output_type": "display_data",
          "data": {
            "image/png": "[encoded data removed]",
            "text/plain": [
              "<Figure size 432x288 with 1 Axes>"
            ]
          },
          "metadata": {
            "tags": [],
            "needs_background": "light"
          }
        }
      ]
    },
    {
      "cell_type": "code",
      "metadata": {
        "id": "neither-liberty"
      },
      "source": [
        "# Define networks\n",
        "\n",
        "class CTRNN(nn.Module):\n",
        "    \"\"\"Continuous-time RNN.\n",
        "\n",
        "    Parameters:\n",
        "        input_size: Number of input neurons\n",
        "        hidden_size: Number of hidden neurons\n",
        "        dt: discretization time step in ms. \n",
        "            If None, dt equals time constant tau\n",
        "\n",
        "    Inputs:\n",
        "        input: tensor of shape (seq_len, batch, input_size)\n",
        "        hidden: tensor of shape (batch, hidden_size), initial hidden activity\n",
        "            if None, hidden is initialized through self.init_hidden()\n",
        "        \n",
        "    Outputs:\n",
        "        output: tensor of shape (seq_len, batch, hidden_size)\n",
        "        hidden: tensor of shape (batch, hidden_size), final hidden activity\n",
        "    \"\"\"\n",
        "\n",
        "    def __init__(self, input_size, hidden_size, dt=None, **kwargs):\n",
        "        super().__init__()\n",
        "        self.input_size = input_size\n",
        "        self.hidden_size = hidden_size\n",
        "        self.tau = 100\n",
        "        if dt is None:\n",
        "            alpha = 1\n",
        "        else:\n",
        "            alpha = dt / self.tau\n",
        "        self.alpha = alpha\n",
        "\n",
        "        self.input2h = nn.Linear(input_size, hidden_size)\n",
        "        self.h2h = nn.Linear(hidden_size, hidden_size)\n",
        "\n",
        "    def init_hidden(self, input_shape):\n",
        "        batch_size = input_shape[1]\n",
        "        return torch.eye(batch_size, self.hidden_size)\n",
        "\n",
        "    def recurrence(self, input, hidden):\n",
        "        \"\"\"Run network for one time step.\n",
        "        \n",
        "        Inputs:\n",
        "            input: tensor of shape (batch, input_size)\n",
        "            hidden: tensor of shape (batch, hidden_size)\n",
        "        \n",
        "        Outputs:\n",
        "            h_new: tensor of shape (batch, hidden_size),\n",
        "                network activity at the next time step\n",
        "        \"\"\"\n",
        "        h_new = torch.relu(self.input2h(input) + self.h2h(hidden))\n",
        "        h_new = hidden * (1 - self.alpha) + h_new * self.alpha\n",
        "        return h_new\n",
        "\n",
        "    def forward(self, input, hidden=None):\n",
        "        \"\"\"Propogate input through the network.\"\"\"\n",
        "        \n",
        "        # If hidden activity is not provided, initialize it\n",
        "        if hidden is None:\n",
        "            hidden = self.init_hidden(input.shape).to(input.device)\n",
        "\n",
        "        # Loop through time\n",
        "        output = []\n",
        "        steps = range(input.size(0))\n",
        "        for i in steps:\n",
        "            hidden = self.recurrence(input[i], hidden)\n",
        "            output.append(hidden)\n",
        "\n",
        "        # Stack together output from all time steps\n",
        "        output = torch.stack(output, dim=0)  # (seq_len, batch, hidden_size)\n",
        "        return output, hidden\n",
        "\n",
        "\n",
        "class RNNNet(nn.Module):\n",
        "    \"\"\"Recurrent network model.\n",
        "\n",
        "    Parameters:\n",
        "        input_size: int, input size\n",
        "        hidden_size: int, hidden size\n",
        "        output_size: int, output size\n",
        "    \n",
        "    Inputs:\n",
        "        x: tensor of shape (Seq Len, Batch, Input size)\n",
        "\n",
        "    Outputs:\n",
        "        out: tensor of shape (Seq Len, Batch, Output size)\n",
        "        rnn_output: tensor of shape (Seq Len, Batch, Hidden size)\n",
        "    \"\"\"\n",
        "    def __init__(self, input_size, hidden_size, output_size, **kwargs):\n",
        "        super().__init__()\n",
        "\n",
        "        # Continuous time RNN\n",
        "        self.rnn = CTRNN(input_size, hidden_size, **kwargs)\n",
        "        \n",
        "        # Add an output layer\n",
        "        self.fc = nn.Linear(hidden_size, output_size)\n",
        "\n",
        "    def forward(self, x):\n",
        "        rnn_output, _ = self.rnn(x)\n",
        "        out = self.fc(rnn_output)\n",
        "        return out, rnn_output"
      ],
      "id": "neither-liberty",
      "execution_count": 25,
      "outputs": []
    },
    {
      "cell_type": "markdown",
      "metadata": {
        "id": "educated-partnership"
      },
      "source": [
        "### Exercise 4: Hierarchical RNNs\n",
        "\n",
        "Easy | **Medium** | Hard\n",
        "\n",
        "Make a hierarhical RNN, where the first module receives external input, the second module receives inputs from the first and project to the third module. The third module produces the outputs.\n",
        "\n",
        "Train this hierarhical RNN on the task.\n",
        "\n",
        "(Optional) Visualize the activity on each module."
      ],
      "id": "educated-partnership"
    },
    {
      "cell_type": "code",
      "metadata": {
        "id": "zDUEIhN7j4jU"
      },
      "source": [
        "# Define networks\n",
        "\n",
        "class CTRNN(nn.Module):\n",
        "    \"\"\"Continuous-time RNN.\n",
        "\n",
        "    Parameters:\n",
        "        input_size: Number of input neurons\n",
        "        hidden_size: Number of hidden neurons\n",
        "        dt: discretization time step in ms. \n",
        "            If None, dt equals time constant tau\n",
        "\n",
        "    Inputs:\n",
        "        input: tensor of shape (seq_len, batch, input_size)\n",
        "        hidden: tensor of shape (batch, hidden_size), initial hidden activity\n",
        "            if None, hidden is initialized through self.init_hidden()\n",
        "        \n",
        "    Outputs:\n",
        "        output: tensor of shape (seq_len, batch, hidden_size)\n",
        "        hidden: tensor of shape (batch, hidden_size), final hidden activity\n",
        "    \"\"\"\n",
        "\n",
        "    def __init__(self, input_size, hidden_size, dt=None, **kwargs):\n",
        "        super().__init__()\n",
        "        self.input_size = input_size\n",
        "        self.hidden_size = hidden_size\n",
        "        self.tau = 100\n",
        "        if dt is None:\n",
        "            alpha = 1\n",
        "        else:\n",
        "            alpha = dt / self.tau\n",
        "        self.alpha = alpha\n",
        "\n",
        "        self.input2h = nn.Linear(input_size, hidden_size)\n",
        "        self.h2h = nn.Linear(hidden_size, hidden_size)\n",
        "\n",
        "    def init_hidden(self, input_shape):\n",
        "        batch_size = input_shape[1]\n",
        "        return torch.eye(batch_size, self.hidden_size)\n",
        "\n",
        "    def recurrence(self, input, hidden):\n",
        "        \"\"\"Run network for one time step.\n",
        "        \n",
        "        Inputs:\n",
        "            input: tensor of shape (batch, input_size)\n",
        "            hidden: tensor of shape (batch, hidden_size)\n",
        "        \n",
        "        Outputs:\n",
        "            h_new: tensor of shape (batch, hidden_size),\n",
        "                network activity at the next time step\n",
        "        \"\"\"\n",
        "        h_new = torch.relu(self.input2h(input) + self.h2h(hidden))\n",
        "        h_new = hidden * (1 - self.alpha) + h_new * self.alpha\n",
        "        return h_new\n",
        "\n",
        "    def forward(self, input, hidden=None):\n",
        "        \"\"\"Propogate input through the network.\"\"\"\n",
        "        \n",
        "        # If hidden activity is not provided, initialize it\n",
        "        if hidden is None:\n",
        "            hidden = self.init_hidden(input.shape).to(input.device)\n",
        "\n",
        "        # Loop through time\n",
        "        output = []\n",
        "        steps = range(input.size(0))\n",
        "        for i in steps:\n",
        "            hidden = self.recurrence(input[i], hidden)\n",
        "            output.append(hidden)\n",
        "\n",
        "        # Stack together output from all time steps\n",
        "        output = torch.stack(output, dim=0)  # (seq_len, batch, hidden_size)\n",
        "        return output, hidden\n",
        "\n",
        "\n",
        "class RNNNet(nn.Module):\n",
        "    \"\"\"Recurrent network model.\n",
        "\n",
        "    Parameters:\n",
        "        input_size: int, input size\n",
        "        hidden_size: int, hidden size\n",
        "        output_size: int, output size\n",
        "    \n",
        "    Inputs:\n",
        "        x: tensor of shape (Seq Len, Batch, Input size)\n",
        "\n",
        "    Outputs:\n",
        "        out: tensor of shape (Seq Len, Batch, Output size)\n",
        "        rnn_output: tensor of shape (Seq Len, Batch, Hidden size)\n",
        "    \"\"\"\n",
        "    def __init__(self, input_size, hidden_size, output_size, **kwargs):\n",
        "        super().__init__()\n",
        "\n",
        "        # Continuous time RNN\n",
        "        self.rnn = CTRNN(input_size, hidden_size, **kwargs)\n",
        "        # Continuous time RNN, hidden size 128\n",
        "        self.rnn1 = CTRNN(hidden_size, hidden_size, **kwargs)\n",
        "        \n",
        "        # Add an output layer\n",
        "        self.fc = nn.Linear(hidden_size, output_size)\n",
        "\n",
        "    def forward(self, x):\n",
        "        # print(f'Shape x: {x.shape}')\n",
        "        rnn_output1, _ = self.rnn(x)\n",
        "        # print(f'Shape x: {rnn_output1.shape}')\n",
        "        rnn_output2, _ = self.rnn1(rnn_output1) # take last\n",
        "        rnn_output3 = self.fc(rnn_output2)\n",
        "\n",
        "        return out, rnn_output3"
      ],
      "id": "zDUEIhN7j4jU",
      "execution_count": 49,
      "outputs": []
    },
    {
      "cell_type": "code",
      "metadata": {
        "id": "frank-murray",
        "outputId": "fc08a694-021c-4478-df3a-6065501ad7f3",
        "colab": {
          "base_uri": "https://localhost:8080/"
        }
      },
      "source": [
        "# Instantiate the network and print information\n",
        "hidden_size = 128\n",
        "net = RNNNet(input_size=input_size, hidden_size=hidden_size,\n",
        "             output_size=output_size, dt=40)\n",
        "print(net)\n",
        "\n",
        "import numpy as np\n",
        "# Reset environment\n",
        "env = dataset.env\n",
        "env.reset(no_step=True)\n",
        "\n",
        "# Initialize variables for logging\n",
        "perf = 0\n",
        "activity_dict = {}  # recording activity\n",
        "trial_infos = {}  # recording trial information\n",
        "\n",
        "num_trial = 200\n",
        "for i in range(num_trial):\n",
        "    # Neurogym boiler plate\n",
        "    # Sample a new trial\n",
        "    trial_info = env.new_trial()\n",
        "    # Observation and groud-truth of this trial\n",
        "    ob, gt = env.ob, env.gt\n",
        "    # Convert to numpy, add batch dimension to input\n",
        "    inputs = torch.from_numpy(ob[:, np.newaxis, :]).type(torch.float)\n",
        "    \n",
        "    # Run the network for one trial\n",
        "    # inputs (SeqLen, Batch, InputSize)\n",
        "    # action_pred (SeqLen, Batch, OutputSize)\n",
        "    action_pred, rnn_activity = net(inputs)\n",
        "    \n",
        "    # Compute performance\n",
        "    # First convert back to numpy\n",
        "    action_pred = action_pred.detach().numpy()[:, 0, :]\n",
        "    # Read out final choice at last time step\n",
        "    choice = np.argmax(action_pred[-1, :])\n",
        "    # Compare to ground truth\n",
        "    correct = choice == gt[-1]\n",
        "    \n",
        "    # Record activity, trial information, choice, correctness\n",
        "    rnn_activity = rnn_activity[:, 0, :].detach().numpy()\n",
        "    activity_dict[i] = rnn_activity\n",
        "    trial_infos[i] = trial_info  # trial_info is a dictionary\n",
        "    trial_infos[i].update({'correct': correct})\n",
        "\n",
        "# Print informations for sample trials\n",
        "for i in range(5):\n",
        "    print('Trial ', i, trial_infos[i])\n",
        "    \n",
        "print('Average performance', np.mean([val['correct'] for val in trial_infos.values()]))"
      ],
      "id": "frank-murray",
      "execution_count": 50,
      "outputs": [
        {
          "output_type": "stream",
          "text": [
            "RNNNet(\n",
            "  (rnn): CTRNN(\n",
            "    (input2h): Linear(in_features=3, out_features=128, bias=True)\n",
            "    (h2h): Linear(in_features=128, out_features=128, bias=True)\n",
            "  )\n",
            "  (rnn1): CTRNN(\n",
            "    (input2h): Linear(in_features=128, out_features=128, bias=True)\n",
            "    (h2h): Linear(in_features=128, out_features=128, bias=True)\n",
            "  )\n",
            "  (fc): Linear(in_features=128, out_features=3, bias=True)\n",
            ")\n",
            "Trial  0 {'ground_truth': 0, 'coh': 12.8, 'correct': False}\n",
            "Trial  1 {'ground_truth': 0, 'coh': 51.2, 'correct': False}\n",
            "Trial  2 {'ground_truth': 0, 'coh': 0.0, 'correct': False}\n",
            "Trial  3 {'ground_truth': 0, 'coh': 51.2, 'correct': False}\n",
            "Trial  4 {'ground_truth': 1, 'coh': 6.4, 'correct': True}\n",
            "Average performance 0.475\n"
          ],
          "name": "stdout"
        }
      ]
    },
    {
      "cell_type": "markdown",
      "metadata": {
        "id": "experimental-perception"
      },
      "source": [
        "### Exercise 5: Sequential training of tasks\n",
        "\n",
        "Easy | **Medium** | Hard\n",
        "\n",
        "First train the network on one task, then train the network on the second task. Plot the performance of both tasks during the training process (see Exercise 2).\n",
        "\n",
        "Hint: you can get many tasks with the same input and output format using the yang19 collection in neurogym. Get the name of all tasks by running:\n",
        "\n",
        "`print(ngym.get_collection('yang19'))`"
      ],
      "id": "experimental-perception"
    },
    {
      "cell_type": "code",
      "metadata": {
        "id": "suspected-postage",
        "outputId": "af6b59d9-e5ac-4858-d661-604c8dc1797d",
        "colab": {
          "base_uri": "https://localhost:8080/"
        }
      },
      "source": [
        "print(ngym.get_collection('yang19'))"
      ],
      "id": "suspected-postage",
      "execution_count": 51,
      "outputs": [
        {
          "output_type": "stream",
          "text": [
            "['yang19.go-v0', 'yang19.rtgo-v0', 'yang19.dlygo-v0', 'yang19.anti-v0', 'yang19.rtanti-v0', 'yang19.dlyanti-v0', 'yang19.dm1-v0', 'yang19.dm2-v0', 'yang19.ctxdm1-v0', 'yang19.ctxdm2-v0', 'yang19.multidm-v0', 'yang19.dlydm1-v0', 'yang19.dlydm2-v0', 'yang19.ctxdlydm1-v0', 'yang19.ctxdlydm2-v0', 'yang19.multidlydm-v0', 'yang19.dms-v0', 'yang19.dnms-v0', 'yang19.dmc-v0', 'yang19.dnmc-v0']\n"
          ],
          "name": "stdout"
        }
      ]
    },
    {
      "cell_type": "code",
      "metadata": {
        "id": "cultural-contamination"
      },
      "source": [
        "# Canned environment from neurogym\n",
        "task_name2 = 'yang19.dlyanti-v0'\n",
        "# Importantly, we set discretization time step for the task as well\n",
        "kwargs = {'dt': 20, 'timing': {'stimulus': 1000}}\n",
        "\n",
        "# Boilerplate gym\n",
        "env2 = gym.make(task_name2, **kwargs)"
      ],
      "id": "cultural-contamination",
      "execution_count": 52,
      "outputs": []
    },
    {
      "cell_type": "code",
      "metadata": {
        "id": "Yvltm8YRolvS",
        "outputId": "d45f5df7-200e-4a22-e3fb-edb473997375",
        "colab": {
          "base_uri": "https://localhost:8080/"
        }
      },
      "source": [
        "# Instantiate the network and print information\n",
        "hidden_size = 128\n",
        "net = RNNNet(input_size=input_size, hidden_size=hidden_size,\n",
        "             output_size=output_size, dt=40)\n",
        "print(net)\n",
        "\n",
        "import numpy as np\n",
        "# Reset environment\n",
        "env = dataset.env\n",
        "env.reset(no_step=True)\n",
        "\n",
        "# Reset environment2\n",
        "env2 = dataset.env\n",
        "env2.reset(no_step=True)\n",
        "\n",
        "# Initialize variables for logging\n",
        "perf = 0\n",
        "activity_dict = {}  # recording activity\n",
        "trial_infos = {}  # recording trial information\n",
        "\n",
        "## ENV1\n",
        "num_trial = 200\n",
        "for i in range(num_trial):\n",
        "    # Neurogym boiler plate\n",
        "    # Sample a new trial\n",
        "    trial_info = env.new_trial()\n",
        "    # Observation and groud-truth of this trial\n",
        "    ob, gt = env.ob, env.gt\n",
        "    # Convert to numpy, add batch dimension to input\n",
        "    inputs = torch.from_numpy(ob[:, np.newaxis, :]).type(torch.float)\n",
        "    \n",
        "    # Run the network for one trial\n",
        "    # inputs (SeqLen, Batch, InputSize)\n",
        "    # action_pred (SeqLen, Batch, OutputSize)\n",
        "    action_pred, rnn_activity = net(inputs)\n",
        "    \n",
        "    # Compute performance\n",
        "    # First convert back to numpy\n",
        "    action_pred = action_pred.detach().numpy()[:, 0, :]\n",
        "    # Read out final choice at last time step\n",
        "    choice = np.argmax(action_pred[-1, :])\n",
        "    # Compare to ground truth\n",
        "    correct = choice == gt[-1]\n",
        "    \n",
        "    # Record activity, trial information, choice, correctness\n",
        "    rnn_activity = rnn_activity[:, 0, :].detach().numpy()\n",
        "    activity_dict[i] = rnn_activity\n",
        "    trial_infos[i] = trial_info  # trial_info is a dictionary\n",
        "    trial_infos[i].update({'correct': correct})\n",
        "\n",
        "# Print informations for sample trials\n",
        "for i in range(5):\n",
        "    print('Trial ', i, trial_infos[i])\n",
        "    \n",
        "print('Average performance', np.mean([val['correct'] for val in trial_infos.values()]))\n",
        "\n",
        "## ENV2\n",
        "num_trial = 200\n",
        "for i in range(num_trial):\n",
        "    # Neurogym boiler plate\n",
        "    # Sample a new trial\n",
        "    trial_info = env.new_trial()\n",
        "    # Observation and groud-truth of this trial\n",
        "    ob, gt = env2.ob, env2.gt\n",
        "    # Convert to numpy, add batch dimension to input\n",
        "    inputs = torch.from_numpy(ob[:, np.newaxis, :]).type(torch.float)\n",
        "    \n",
        "    # Run the network for one trial\n",
        "    # inputs (SeqLen, Batch, InputSize)\n",
        "    # action_pred (SeqLen, Batch, OutputSize)\n",
        "    action_pred, rnn_activity = net(inputs)\n",
        "    \n",
        "    # Compute performance\n",
        "    # First convert back to numpy\n",
        "    action_pred = action_pred.detach().numpy()[:, 0, :]\n",
        "    # Read out final choice at last time step\n",
        "    choice = np.argmax(action_pred[-1, :])\n",
        "    # Compare to ground truth\n",
        "    correct = choice == gt[-1]\n",
        "    \n",
        "    # Record activity, trial information, choice, correctness\n",
        "    rnn_activity = rnn_activity[:, 0, :].detach().numpy()\n",
        "    activity_dict[i] = rnn_activity\n",
        "    trial_infos[i] = trial_info  # trial_info is a dictionary\n",
        "    trial_infos[i].update({'correct': correct})\n",
        "\n",
        "# Print informations for sample trials\n",
        "for i in range(5):\n",
        "    print('Trial ', i, trial_infos[i])\n",
        "    \n",
        "print('Average performance', np.mean([val['correct'] for val in trial_infos.values()]))"
      ],
      "id": "Yvltm8YRolvS",
      "execution_count": 54,
      "outputs": [
        {
          "output_type": "stream",
          "text": [
            "RNNNet(\n",
            "  (rnn): CTRNN(\n",
            "    (input2h): Linear(in_features=3, out_features=128, bias=True)\n",
            "    (h2h): Linear(in_features=128, out_features=128, bias=True)\n",
            "  )\n",
            "  (rnn1): CTRNN(\n",
            "    (input2h): Linear(in_features=128, out_features=128, bias=True)\n",
            "    (h2h): Linear(in_features=128, out_features=128, bias=True)\n",
            "  )\n",
            "  (fc): Linear(in_features=128, out_features=3, bias=True)\n",
            ")\n",
            "Trial  0 {'ground_truth': 0, 'coh': 51.2, 'correct': False}\n",
            "Trial  1 {'ground_truth': 0, 'coh': 12.8, 'correct': False}\n",
            "Trial  2 {'ground_truth': 0, 'coh': 12.8, 'correct': False}\n",
            "Trial  3 {'ground_truth': 0, 'coh': 25.6, 'correct': False}\n",
            "Trial  4 {'ground_truth': 0, 'coh': 25.6, 'correct': False}\n",
            "Average performance 0.51\n",
            "Trial  0 {'ground_truth': 1, 'coh': 0.0, 'correct': True}\n",
            "Trial  1 {'ground_truth': 0, 'coh': 25.6, 'correct': False}\n",
            "Trial  2 {'ground_truth': 1, 'coh': 51.2, 'correct': True}\n",
            "Trial  3 {'ground_truth': 0, 'coh': 12.8, 'correct': False}\n",
            "Trial  4 {'ground_truth': 1, 'coh': 12.8, 'correct': True}\n",
            "Average performance 0.59\n"
          ],
          "name": "stdout"
        }
      ]
    },
    {
      "cell_type": "markdown",
      "metadata": {
        "id": "bearing-rochester"
      },
      "source": [
        "### Exercise 6: Training only output connections\n",
        "\n",
        "Easy | **Medium** | Hard\n",
        "\n",
        "Train only the output connections of the network, and plot performance. Compare performance with networks that have all weights trained."
      ],
      "id": "bearing-rochester"
    },
    {
      "cell_type": "code",
      "metadata": {
        "id": "YFMKarrJol3P"
      },
      "source": [
        ""
      ],
      "id": "YFMKarrJol3P",
      "execution_count": null,
      "outputs": []
    },
    {
      "cell_type": "markdown",
      "metadata": {
        "id": "dressed-adapter"
      },
      "source": [
        "### Exercise 7: Training spatially embedded RNNs\n",
        "\n",
        "Easy | Medium | **Hard**\n",
        "\n",
        "In normal neural networks, RNN units have no spatial locations. Assume that the RNN units are embedded in a 2-D cortical sheet, and it is more costly to have long-range connections. Train such spatially embedded RNNs and show that this influences the connectivity structure after training.\n",
        "\n",
        "Hint: Several functions you want to consider writing:\n",
        "1. Assigning network units spatial locations\n",
        "2. Define a (differentiable) loss that depends on the connection weight from one neuron to another and their spatial distance.\n",
        "3. Add this loss to the the training loss\n",
        "4. Visualize connectivity matrix with and without the long-distance loss."
      ],
      "id": "dressed-adapter"
    },
    {
      "cell_type": "code",
      "metadata": {
        "id": "individual-citizenship"
      },
      "source": [
        ""
      ],
      "id": "individual-citizenship",
      "execution_count": null,
      "outputs": []
    },
    {
      "cell_type": "markdown",
      "metadata": {
        "id": "smoking-mineral"
      },
      "source": [
        "### Exercise 8: ConvNet + RNN\n",
        "\n",
        "Easy | Medium | **Hard**\n",
        "\n",
        "Design your own task or use the following task that provides image input at each time point. Add a convolutional network as the sensory module. No need to train the convolutional network.\n",
        "\n",
        "Optional: Use a small pre-trained convolutional network."
      ],
      "id": "smoking-mineral"
    },
    {
      "cell_type": "code",
      "metadata": {
        "id": "pacific-response"
      },
      "source": [
        "# A simple image based decision making task for this tutorial\n",
        "\n",
        "class SimpleVisualDecisionMaking(ngym.TrialEnv):\n",
        "    \"\"\"Two-alternative forced choice task in which the subject has to\n",
        "    integrate two stimuli to decide whether there is a horizontal or vertical bar.\n",
        "    \n",
        "    During a fixation period, a square is shown without noise. Then during\n",
        "    the stimulus period, a horizontal or vertical bar is shown with noise. Then during\n",
        "    the decision period, no stimulus is shown and the network should make a decision.\n",
        "\n",
        "    Args:\n",
        "        sigma: float, input noise level\n",
        "    \"\"\"\n",
        "\n",
        "    def __init__(self, dt=100, rewards=None, timing=None, sigma=1.0):\n",
        "        super().__init__(dt=dt)\n",
        "        # Rewards\n",
        "        self.rewards = {'abort': -0.1, 'correct': +1., 'fail': 0.}\n",
        "        if rewards:\n",
        "            self.rewards.update(rewards)\n",
        "\n",
        "        self.timing = {\n",
        "            'fixation': 100,\n",
        "            'stimulus': 300,\n",
        "            'decision': 100}\n",
        "        if timing:\n",
        "            self.timing.update(timing)\n",
        "\n",
        "        self.sigma = sigma\n",
        "            \n",
        "        self.abort = False\n",
        "        \n",
        "        # Box shape (Channel, Height, Width)\n",
        "        self.ob_shape = (1, 10, 10)\n",
        "        self.observation_space = spaces.Box(\n",
        "            -np.inf, np.inf, shape=self.ob_shape, dtype=np.float32)\n",
        "        name = {'fixation': 0, 'choice': [1, 2]}\n",
        "        self.action_space = spaces.Discrete(3, name=name)\n",
        "\n",
        "    def _new_trial(self, **kwargs):\n",
        "        # Trial info\n",
        "        trial = {\n",
        "            'ground_truth': self.rng.choice([0, 1]),\n",
        "        }\n",
        "        trial.update(kwargs)\n",
        "\n",
        "        ground_truth = trial['ground_truth']\n",
        "\n",
        "        # Periods\n",
        "        self.add_period(['fixation', 'stimulus', 'decision'])\n",
        "\n",
        "        # Observations\n",
        "        im = np.zeros(self.ob_shape)\n",
        "        im[0, 4:6, 4:6] = 1\n",
        "        self.add_ob(im, period='fixation')\n",
        "        \n",
        "        im = np.zeros(self.ob_shape)\n",
        "        if ground_truth == 0:\n",
        "            im[0, 2:8, 4:6] = 1\n",
        "        else:\n",
        "            im[0, 4:6, 2:8] = 1\n",
        "        self.add_ob(im, period='stimulus')\n",
        "        self.add_randn(0, self.sigma, period='stimulus')\n",
        "\n",
        "        # Ground truth\n",
        "        self.set_groundtruth(ground_truth, period='decision', where='choice')\n",
        "\n",
        "        return trial\n",
        "\n",
        "    def _step(self, action):\n",
        "        \"\"\"\n",
        "        _step receives an action and returns:\n",
        "            a new observation, obs\n",
        "            reward associated with the action, reward\n",
        "            a boolean variable indicating whether the experiment has end, done\n",
        "            a dictionary with extra information:\n",
        "                ground truth correct response, info['gt']\n",
        "                boolean indicating the end of the trial, info['new_trial']\n",
        "        \"\"\"\n",
        "        new_trial = False\n",
        "        # rewards\n",
        "        reward = 0\n",
        "        gt = self.gt_now\n",
        "        # observations\n",
        "        if self.in_period('fixation'):\n",
        "            if action != 0:  # action = 0 means fixating\n",
        "                new_trial = self.abort\n",
        "                reward += self.rewards['abort']\n",
        "        elif self.in_period('decision'):\n",
        "            if action != 0:\n",
        "                new_trial = True\n",
        "                if action == gt:\n",
        "                    reward += self.rewards['correct']\n",
        "                    self.performance = 1\n",
        "                else:\n",
        "                    reward += self.rewards['fail']\n",
        "\n",
        "        return self.ob_now, reward, False, {'new_trial': new_trial, 'gt': gt}"
      ],
      "id": "pacific-response",
      "execution_count": null,
      "outputs": []
    },
    {
      "cell_type": "markdown",
      "metadata": {
        "id": "diagnostic-classification"
      },
      "source": [
        "Visualize the environment\n",
        "\n",
        "`sigma` adjusts the noise level. If you use `sigma=0`, you will see the horizontal or vertical bar clearly. Set `sigma=1` or higher to challenge the network and require it to use recurrent connections for integration."
      ],
      "id": "diagnostic-classification"
    },
    {
      "cell_type": "code",
      "metadata": {
        "id": "comprehensive-distinction",
        "outputId": "77d0c340-9cb8-4404-fdb2-e15fdeb57136"
      },
      "source": [
        "# Create environment from source code\n",
        "vis_env = SimpleVisualDecisionMaking(dt=50, sigma=0.0)\n",
        "\n",
        "vis_env.reset(no_step=True)\n",
        "# Loop through several time steps\n",
        "for i in range(10):\n",
        "    ob, _, _, _ = vis_env.step(action=0)  # keep choosing action 0\n",
        "    \n",
        "    plt.figure(figsize=(1.5, 1.5))\n",
        "    plt.imshow(ob[0])\n",
        "    plt.title('Time in trial {:d} ms'.format(vis_env.t))\n",
        "    plt.axis('off')\n",
        "    plt.show()"
      ],
      "id": "comprehensive-distinction",
      "execution_count": null,
      "outputs": [
        {
          "output_type": "display_data",
          "data": {
            "image/png": "[encoded data removed]",
            "text/plain": [
              "<Figure size 108x108 with 1 Axes>"
            ]
          },
          "metadata": {
            "tags": [],
            "needs_background": "light"
          }
        },
        {
          "output_type": "display_data",
          "data": {
            "image/png": "[encoded data removed]",
            "text/plain": [
              "<Figure size 108x108 with 1 Axes>"
            ]
          },
          "metadata": {
            "tags": [],
            "needs_background": "light"
          }
        },
        {
          "output_type": "display_data",
          "data": {
            "image/png": "[encoded data removed]",
            "text/plain": [
              "<Figure size 108x108 with 1 Axes>"
            ]
          },
          "metadata": {
            "tags": [],
            "needs_background": "light"
          }
        },
        {
          "output_type": "display_data",
          "data": {
            "image/png": "[encoded data removed]",
            "text/plain": [
              "<Figure size 108x108 with 1 Axes>"
            ]
          },
          "metadata": {
            "tags": [],
            "needs_background": "light"
          }
        },
        {
          "output_type": "display_data",
          "data": {
            "image/png": "[encoded data removed]",
            "text/plain": [
              "<Figure size 108x108 with 1 Axes>"
            ]
          },
          "metadata": {
            "tags": [],
            "needs_background": "light"
          }
        },
        {
          "output_type": "display_data",
          "data": {
            "image/png": "[encoded data removed]",
            "text/plain": [
              "<Figure size 108x108 with 1 Axes>"
            ]
          },
          "metadata": {
            "tags": [],
            "needs_background": "light"
          }
        },
        {
          "output_type": "display_data",
          "data": {
            "image/png": "[encoded data removed]",
            "text/plain": [
              "<Figure size 108x108 with 1 Axes>"
            ]
          },
          "metadata": {
            "tags": [],
            "needs_background": "light"
          }
        },
        {
          "output_type": "display_data",
          "data": {
            "image/png": "[encoded data removed]",
            "text/plain": [
              "<Figure size 108x108 with 1 Axes>"
            ]
          },
          "metadata": {
            "tags": [],
            "needs_background": "light"
          }
        },
        {
          "output_type": "display_data",
          "data": {
            "image/png": "[encoded data removed]",
            "text/plain": [
              "<Figure size 108x108 with 1 Axes>"
            ]
          },
          "metadata": {
            "tags": [],
            "needs_background": "light"
          }
        },
        {
          "output_type": "display_data",
          "data": {
            "image/png": "[encoded data removed]",
            "text/plain": [
              "<Figure size 108x108 with 1 Axes>"
            ]
          },
          "metadata": {
            "tags": [],
            "needs_background": "light"
          }
        }
      ]
    },
    {
      "cell_type": "markdown",
      "metadata": {
        "id": "broad-yesterday"
      },
      "source": [
        "### Exercise 9: Short-term plasticity in RNN\n",
        "\n",
        "Easy | Medium | **Hard**\n",
        "\n",
        "Implement short-term plasticity in RNN and train the network on a working memory task. Compare the PCA trajectory with or without short-term plasticity.\n",
        "\n",
        "More details on short-term plasticity below.\n",
        "\n",
        "You can get a working memory task from `neurogym` by running `env = gym.make('DelayComparison-v0')`."
      ],
      "id": "broad-yesterday"
    },
    {
      "cell_type": "code",
      "metadata": {
        "id": "spread-conclusion",
        "outputId": "b4bffb62-65b8-435c-95a5-703395bf50b6",
        "colab": {
          "base_uri": "https://localhost:8080/",
          "height": 361
        }
      },
      "source": [
        "env = gym.make('DelayComparison-v0')\n",
        "_ = ngym.utils.plot_env(env, num_trials=2)"
      ],
      "id": "spread-conclusion",
      "execution_count": 19,
      "outputs": [
        {
          "output_type": "display_data",
          "data": {
            "image/png": "[encoded data removed]",
            "text/plain": [
              "<Figure size 360x345.6 with 4 Axes>"
            ]
          },
          "metadata": {
            "tags": [],
            "needs_background": "light"
          }
        }
      ]
    },
    {
      "cell_type": "markdown",
      "metadata": {
        "id": "dense-routine"
      },
      "source": [
        "One way to implement **short-term plasticity for rate networks** is to adapt the model from [Mongillo, Barak, Tsodyks 2008](https://science.sciencemag.org/content/319/5869/1543). See [Masse et al. 2019](https://www.nature.com/articles/s41593-019-0414-3) for more details.\n",
        "\n",
        "We assume that all output connection weights from a single neuron with activity $r(t)$ is being modulated by two scalar terms $x(t)$ and $u(t)$. \n",
        "\n",
        "$x(t)$ represents the neurotransmitter availability. It decreases with high activity $r(t)$ and gradually relaxes back to 1 when $r(t)=0$.\n",
        "\n",
        "$\\frac{dx(t)}{dt}=\\frac{1-x(t)}{\\tau_x} - u(t)x(t)r(t)$\n",
        "\n",
        "$u(t)$ represents neurotransmitter utilization which increases towards 1 with high activity $r(t)$ and relaxs back to $U<1$ when there is no activity.\n",
        "\n",
        "$\\frac{du(t)}{dt}=\\frac{U-u(t)}{\\tau_u} - U(1-u(t))r(t)$\n",
        "\n",
        "The input from the $i-$th neuron to the $j-$th neuron is therefore\n",
        "$W_{i\\rightarrow j}r_i(t) x_i(t) u_i(t)$\n",
        "\n",
        "Set $\\tau_x=200$ms, $\\tau_u=1500$ms, $U=0.15$ for a facilitating synapse.\n",
        "\n",
        "Set $\\tau_x=1500$ms, $\\tau_u=200$ms, $U=0.45$ for a depressing synapse.\n",
        "\n",
        "These equations can be discretized in time with discretization step $\\Delta t$ as\n",
        "\n",
        "$\\Delta x(t)=(1-x(t))\\frac{\\Delta t}{\\tau_x} - u(t)x(t)r(t) \\Delta t$\n",
        "\n",
        "$\\Delta u(t)=(U-u(t))\\frac{\\Delta t}{\\tau_u} - U(1-u(t))r(t)\\Delta t$\n",
        "\n",
        "Hint: Start by making all synapses facilitating."
      ],
      "id": "dense-routine"
    },
    {
      "cell_type": "code",
      "metadata": {
        "id": "renewable-enough"
      },
      "source": [
        "# Define networks\n",
        "import torch\n",
        "import torch.nn as nn\n",
        "from torch.nn import init\n",
        "from torch.nn import functional as F\n",
        "import math\n",
        "    \n",
        "\n",
        "class CTRNN(nn.Module):\n",
        "    \"\"\"Continuous-time RNN.\n",
        "\n",
        "    Parameters:\n",
        "        input_size: Number of input neurons\n",
        "        hidden_size: Number of hidden neurons\n",
        "        dt: discretization time step in ms. \n",
        "            If None, dt equals time constant tau\n",
        "\n",
        "    Inputs:\n",
        "        input: tensor of shape (seq_len, batch, input_size)\n",
        "        hidden: tensor of shape (batch, hidden_size), initial hidden activity\n",
        "            if None, hidden is initialized through self.init_hidden()\n",
        "        \n",
        "    Outputs:\n",
        "        output: tensor of shape (seq_len, batch, hidden_size)\n",
        "        hidden: tensor of shape (batch, hidden_size), final hidden activity\n",
        "    \"\"\"\n",
        "\n",
        "    def __init__(self, input_size, hidden_size, dt=None, **kwargs):\n",
        "        super().__init__()\n",
        "        self.input_size = input_size\n",
        "        self.hidden_size = hidden_size\n",
        "        self.tau = 100\n",
        "        if dt is None:\n",
        "            alpha = 1\n",
        "        else:\n",
        "            alpha = dt / self.tau\n",
        "        self.alpha = alpha\n",
        "\n",
        "        self.input2h = nn.Linear(input_size, hidden_size)\n",
        "        self.h2h = nn.Linear(hidden_size, hidden_size)\n",
        "\n",
        "    def init_hidden(self, input_shape):\n",
        "        batch_size = input_shape[1]\n",
        "        return torch.zeros(batch_size, self.hidden_size)\n",
        "\n",
        "    def recurrence(self, input, hidden):\n",
        "        \"\"\"Run network for one time step.\n",
        "        \n",
        "        Inputs:\n",
        "            input: tensor of shape (batch, input_size)\n",
        "            hidden: tensor of shape (batch, hidden_size)\n",
        "        \n",
        "        Outputs:\n",
        "            h_new: tensor of shape (batch, hidden_size),\n",
        "                network activity at the next time step\n",
        "        \"\"\"\n",
        "        h_new = torch.relu(self.input2h(input) + self.h2h(hidden))\n",
        "        h_new = hidden * (1 - self.alpha) + h_new * self.alpha\n",
        "        return h_new\n",
        "\n",
        "    def scalar_weight_init(self):\n",
        "        \n",
        "\n",
        "    def forward(self, input, hidden=None):\n",
        "        \"\"\"Propogate input through the network.\"\"\"\n",
        "        \n",
        "        # If hidden activity is not provided, initialize it\n",
        "        if hidden is None:\n",
        "            hidden = self.init_hidden(input.shape).to(input.device)\n",
        "\n",
        "        # Loop through time\n",
        "        output = []\n",
        "        steps = range(input.size(0))\n",
        "        for i in steps:\n",
        "            hidden = self.recurrence(input[i], hidden)\n",
        "            output.append(hidden)\n",
        "\n",
        "        # Stack together output from all time steps\n",
        "        output = torch.stack(output, dim=0)  # (seq_len, batch, hidden_size)\n",
        "        return output, hidden\n",
        "\n",
        "\n",
        "class RNNNet(nn.Module):\n",
        "    \"\"\"Recurrent network model.\n",
        "\n",
        "    Parameters:\n",
        "        input_size: int, input size\n",
        "        hidden_size: int, hidden size\n",
        "        output_size: int, output size\n",
        "    \n",
        "    Inputs:\n",
        "        x: tensor of shape (Seq Len, Batch, Input size)\n",
        "\n",
        "    Outputs:\n",
        "        out: tensor of shape (Seq Len, Batch, Output size)\n",
        "        rnn_output: tensor of shape (Seq Len, Batch, Hidden size)\n",
        "    \"\"\"\n",
        "    def __init__(self, input_size, hidden_size, output_size, **kwargs):\n",
        "        super().__init__()\n",
        "\n",
        "        # Continuous time RNN\n",
        "        self.rnn = CTRNN(input_size, hidden_size, **kwargs)\n",
        "        \n",
        "        # Add an output layer\n",
        "        self.fc = nn.Linear(hidden_size, output_size)\n",
        "\n",
        "    def forward(self, x):\n",
        "        rnn_output, _ = self.rnn(x)\n",
        "        out = self.fc(rnn_output)\n",
        "        return out, rnn_output"
      ],
      "id": "renewable-enough",
      "execution_count": 20,
      "outputs": []
    }
  ]
}